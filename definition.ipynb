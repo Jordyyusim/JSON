{
 "cells": [
  {
   "cell_type": "markdown",
   "metadata": {},
   "source": [
    "# __JSON__\n",
    "## JavaScript Object Notation\n",
    "<hr>\n",
    "<hr>"
   ]
  },
  {
   "cell_type": "markdown",
   "metadata": {},
   "source": [
    "##### 1. Bentuknya mirip list / dict pada pyhton\n",
    "##### 2. semua key dan value yg berupa string harus dalam double quote\"\"\n",
    "##### 3. Dalam javascript boolean hruf kecil\n",
    "##### 4. number atau integer gak usah pakai double quote\n",
    "##### 5. Dalam 1 file json tidak boleh ada 2 list atau dict\n",
    "##### 6. JSON kalo mau diwrite butuhnya list of dicti\n",
    "##### CTRL + SHIFT + P lalu pilih prettify json"
   ]
  },
  {
   "cell_type": "code",
   "execution_count": null,
   "metadata": {},
   "outputs": [],
   "source": []
  }
 ],
 "metadata": {
  "kernelspec": {
   "display_name": "Python 3",
   "language": "python",
   "name": "python3"
  },
  "language_info": {
   "codemirror_mode": {
    "name": "ipython",
    "version": 3
   },
   "file_extension": ".py",
   "mimetype": "text/x-python",
   "name": "python",
   "nbconvert_exporter": "python",
   "pygments_lexer": "ipython3",
   "version": "3.8.1"
  }
 },
 "nbformat": 4,
 "nbformat_minor": 4
}
