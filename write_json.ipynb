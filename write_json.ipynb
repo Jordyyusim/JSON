{
 "cells": [
  {
   "cell_type": "markdown",
   "metadata": {},
   "source": [
    "# __WRITE JSON__\n",
    "<HR>\n",
    "<HR>"
   ]
  },
  {
   "cell_type": "code",
   "execution_count": null,
   "metadata": {},
   "outputs": [],
   "source": [
    "# import json"
   ]
  },
  {
   "cell_type": "code",
   "execution_count": null,
   "metadata": {},
   "outputs": [],
   "source": [
    "# x = [\n",
    "#     {'nama': 'Andi', 'kota': 'BSD'},\n",
    "#     {'nama': 'Budi', 'kota': 'JKT'},\n",
    "#     {'nama': 'Caca', 'kota': 'BDG'}\n",
    "# ]\n",
    "\n",
    "# with open('1.json', 'w') as myjson:\n",
    "#     json.dump(x, myjson)"
   ]
  }
 ],
 "metadata": {
  "kernelspec": {
   "display_name": "Python 3",
   "language": "python",
   "name": "python3"
  },
  "language_info": {
   "codemirror_mode": {
    "name": "ipython",
    "version": 3
   },
   "file_extension": ".py",
   "mimetype": "text/x-python",
   "name": "python",
   "nbconvert_exporter": "python",
   "pygments_lexer": "ipython3",
   "version": "3.8.1"
  }
 },
 "nbformat": 4,
 "nbformat_minor": 4
}
